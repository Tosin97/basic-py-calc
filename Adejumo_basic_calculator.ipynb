{
  "nbformat": 4,
  "nbformat_minor": 0,
  "metadata": {
    "colab": {
      "provenance": []
    },
    "kernelspec": {
      "name": "python3",
      "display_name": "Python 3"
    },
    "language_info": {
      "name": "python"
    }
  },
  "cells": [
    {
      "cell_type": "code",
      "execution_count": 2,
      "metadata": {
        "id": "pcQie_EghsAX"
      },
      "outputs": [],
      "source": [
        " #Basic Calculator\n",
        "\n",
        "\"\"\"\n",
        "A basic calculator is one of the fundamental\n",
        "projects in Python programming. It provides essential\n",
        "arithmetic operations such as addition, subtraction,\n",
        "multiplication, and division. Understanding how to\n",
        "implement a calculator helps in learning user input\n",
        "handling, conditional statements, and function creation in\n",
        "Python.\n",
        "\n",
        "Key Concepts of Basic Calculator in Python\n",
        " Arithmetic Operations:\n",
        " Addition ( + )\n",
        " Subtraction (- )\n",
        " Multiplication ( * )\n",
        " Division ( / )\n",
        " Modulus ( % )\n",
        " Exponentiation ( ** )\n",
        " User Input Handling:\n",
        " Using input() function\n",
        " Converting strings to integers or floats\n",
        " Functions in Python:\n",
        " Defining functions for calculations\n",
        " Calling functions with user inputs\n",
        " Error Handling:\n",
        " Parameter Table\n",
        " Operator\n",
        " Handling division by zero\n",
        " Handling invalid inputs\n",
        " \"\"\"\n",
        "\n",
        " #Define calculator functions\n",
        "\n",
        "def add(x, y):\n",
        "    return x + y\n",
        "\n",
        "def subtract(x, y):\n",
        "    return x - y\n",
        "\n",
        "def multiply(x, y):\n",
        "    return x * y\n",
        "\n",
        "def divide(x, y):\n",
        "    if y == 0:\n",
        "        raise ValueError(\"Cannot divide by zero.\")\n",
        "    return x / y\n",
        "\n",
        "def modulus(x, y):\n",
        "    if y == 0:\n",
        "        raise ValueError(\"Cannot mod by zero.\")\n",
        "    return x % y\n",
        "\n",
        "def exponent(x, y):\n",
        "    return x ** y"
      ]
    },
    {
      "cell_type": "code",
      "source": [
        "#UI and error handling\n",
        "def main():\n",
        "    print(\"Basic Calculator\")\n",
        "    print(\"----------------\")\n",
        "    print(\"Select operation:\")\n",
        "    print(\"1. Add (+)\")\n",
        "    print(\"2. Subtract (-)\")\n",
        "    print(\"3. Multiply (*)\")\n",
        "    print(\"4. Divide (/)\")\n",
        "    print(\"5. Modulus (%)\")\n",
        "    print(\"6. Exponentiation (**)\")\n",
        "\n",
        "    choice = input(\"Enter choice (1–6): \").strip()\n",
        "    if choice not in {'1','2','3','4','5','6'}:\n",
        "        print(\"Invalid choice; please select 1–6.\")\n",
        "        return\n",
        "\n",
        "    try:\n",
        "        a = float(input(\"Enter first number: \"))\n",
        "        b = float(input(\"Enter second number: \"))\n",
        "    except ValueError:\n",
        "        print(\"Invalid number; please enter numeric values.\")\n",
        "        return\n",
        "\n",
        "    try:\n",
        "        if choice == '1':\n",
        "            result = add(a, b)\n",
        "        elif choice == '2':\n",
        "            result = subtract(a, b)\n",
        "        elif choice == '3':\n",
        "            result = multiply(a, b)\n",
        "        elif choice == '4':\n",
        "            result = divide(a, b)\n",
        "        elif choice == '5':\n",
        "            result = modulus(a, b)\n",
        "        else:  # '6'\n",
        "            result = exponent(a, b)\n",
        "\n",
        "        print(f\"\\nResult: {result}\")\n",
        "    except ValueError as e:\n",
        "        print(f\"Error: {e}\")\n",
        "\n",
        "# Run the calculator\n",
        "if __name__ == \"__main__\":\n",
        "    main()"
      ],
      "metadata": {
        "colab": {
          "base_uri": "https://localhost:8080/"
        },
        "id": "BztLLdUYiYs6",
        "outputId": "a205c78b-f188-46e4-f499-7cb69f8b2dbc"
      },
      "execution_count": 6,
      "outputs": [
        {
          "output_type": "stream",
          "name": "stdout",
          "text": [
            "Basic Calculator\n",
            "----------------\n",
            "Select operation:\n",
            "1. Add (+)\n",
            "2. Subtract (-)\n",
            "3. Multiply (*)\n",
            "4. Divide (/)\n",
            "5. Modulus (%)\n",
            "6. Exponentiation (**)\n",
            "Enter choice (1–6): 1\n",
            "Enter first number: 5\n",
            "Enter second number: 4\n",
            "\n",
            "Result: 9.0\n"
          ]
        }
      ]
    },
  ]
}
